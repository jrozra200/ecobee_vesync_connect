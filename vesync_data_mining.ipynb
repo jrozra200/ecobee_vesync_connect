{
 "cells": [
  {
   "cell_type": "code",
   "execution_count": 20,
   "metadata": {},
   "outputs": [],
   "source": [
    "from pyvesync import VeSync\n",
    "import pandas as pd"
   ]
  },
  {
   "cell_type": "code",
   "execution_count": 21,
   "metadata": {},
   "outputs": [],
   "source": [
    "config = pd.read_csv(\"vesync.config\")"
   ]
  },
  {
   "cell_type": "code",
   "execution_count": 22,
   "metadata": {},
   "outputs": [
    {
     "data": {
      "text/html": [
       "<div>\n",
       "<style scoped>\n",
       "    .dataframe tbody tr th:only-of-type {\n",
       "        vertical-align: middle;\n",
       "    }\n",
       "\n",
       "    .dataframe tbody tr th {\n",
       "        vertical-align: top;\n",
       "    }\n",
       "\n",
       "    .dataframe thead th {\n",
       "        text-align: right;\n",
       "    }\n",
       "</style>\n",
       "<table border=\"1\" class=\"dataframe\">\n",
       "  <thead>\n",
       "    <tr style=\"text-align: right;\">\n",
       "      <th></th>\n",
       "      <th>email</th>\n",
       "      <th>password</th>\n",
       "    </tr>\n",
       "  </thead>\n",
       "  <tbody>\n",
       "    <tr>\n",
       "      <th>0</th>\n",
       "      <td>rozran00@gmail.com</td>\n",
       "      <td>0l@0Ut8GIo</td>\n",
       "    </tr>\n",
       "  </tbody>\n",
       "</table>\n",
       "</div>"
      ],
      "text/plain": [
       "                email    password\n",
       "0  rozran00@gmail.com  0l@0Ut8GIo"
      ]
     },
     "execution_count": 22,
     "metadata": {},
     "output_type": "execute_result"
    }
   ],
   "source": [
    "config"
   ]
  },
  {
   "cell_type": "code",
   "execution_count": 23,
   "metadata": {},
   "outputs": [
    {
     "name": "stdout",
     "output_type": "stream",
     "text": [
      "Device Name:... Ellie’s Room   \n",
      "Model: ........ wifi-switch-1.3\n",
      "Subdevice No: . None           \n",
      "Status: ....... off            \n",
      "Online: ....... online         \n",
      "Type: ......... wifi-switch    \n",
      "CID: .......... 4361bb13-266c-40c6-9ad9-29f9e4039ece\n",
      "UUID: ......... 4361bb13-266c-40c6-9ad9-29f9e4039ece\n",
      "Active Time : . 12  minutes\n",
      "Energy: ....... 10.55  kWh\n",
      "Power: ........ 0.0  Watts\n",
      "Voltage: ...... 0.0  Volts\n",
      "Energy Week: .. 0  kWh\n",
      "Energy Month: . 0  kWh\n",
      "Energy Year: .. 0  kWh\n",
      "Device Name:... Red Lamp       \n",
      "Model: ........ wifi-switch-1.3\n",
      "Subdevice No: . None           \n",
      "Status: ....... on             \n",
      "Online: ....... online         \n",
      "Type: ......... wifi-switch    \n",
      "CID: .......... d10e8ce3-aa7c-4405-9c1d-168b1cc89d78\n",
      "UUID: ......... d10e8ce3-aa7c-4405-9c1d-168b1cc89d78\n",
      "Active Time : . 661  minutes\n",
      "Energy: ....... 0.09  kWh\n",
      "Power: ........ 8.2  Watts\n",
      "Voltage: ...... 120.62  Volts\n",
      "Energy Week: .. 0  kWh\n",
      "Energy Month: . 0  kWh\n",
      "Energy Year: .. 0  kWh\n",
      "Device Name:... Overhead Dryer Light\n",
      "Model: ........ wifi-switch-1.3\n",
      "Subdevice No: . None           \n",
      "Status: ....... off            \n",
      "Online: ....... online         \n",
      "Type: ......... wifi-switch    \n",
      "CID: .......... 6003d098-bb7b-44e4-8b63-9eb8c64fcacc\n",
      "UUID: ......... 6003d098-bb7b-44e4-8b63-9eb8c64fcacc\n",
      "Active Time : . 492  minutes\n",
      "Energy: ....... 50.75  kWh\n",
      "Power: ........ 0.0  Watts\n",
      "Voltage: ...... 0.0  Volts\n",
      "Energy Week: .. 0  kWh\n",
      "Energy Month: . 0  kWh\n",
      "Energy Year: .. 0  kWh\n",
      "Device Name:... Blue Lamp      \n",
      "Model: ........ wifi-switch-1.3\n",
      "Subdevice No: . None           \n",
      "Status: ....... on             \n",
      "Online: ....... online         \n",
      "Type: ......... wifi-switch    \n",
      "CID: .......... c17a621c-b165-4894-8863-5efb2d7ae525\n",
      "UUID: ......... c17a621c-b165-4894-8863-5efb2d7ae525\n",
      "Active Time : . 661  minutes\n",
      "Energy: ....... 0.1  kWh\n",
      "Power: ........ 9.05  Watts\n",
      "Voltage: ...... 120.17  Volts\n",
      "Energy Week: .. 0  kWh\n",
      "Energy Month: . 0  kWh\n",
      "Energy Year: .. 0  kWh\n",
      "Device Name:... Corner Sconce  \n",
      "Model: ........ wifi-switch-1.3\n",
      "Subdevice No: . None           \n",
      "Status: ....... off            \n",
      "Online: ....... offline        \n",
      "Type: ......... wifi-switch    \n",
      "CID: .......... 1c47bf00-8fff-46d9-8ab5-424e0b2dcc9e\n",
      "UUID: ......... 1c47bf00-8fff-46d9-8ab5-424e0b2dcc9e\n",
      "Active Time : . 0  minutes\n",
      "Energy: ....... 0  kWh\n",
      "Power: ........ 0.0  Watts\n",
      "Voltage: ...... 0.0  Volts\n",
      "Energy Week: .. 0  kWh\n",
      "Energy Month: . 0  kWh\n",
      "Energy Year: .. 0  kWh\n"
     ]
    }
   ],
   "source": [
    "manager = VeSync(config.email[0], config.password[0])\n",
    "manager.login()\n",
    "manager.update()\n",
    "\n",
    "# Display outlet device information\n",
    "for device in manager.outlets:\n",
    "    device.display()"
   ]
  },
  {
   "cell_type": "code",
   "execution_count": 29,
   "metadata": {},
   "outputs": [],
   "source": [
    "my_switch = str(manager.outlets[0])"
   ]
  },
  {
   "cell_type": "code",
   "execution_count": 33,
   "metadata": {},
   "outputs": [
    {
     "data": {
      "text/plain": [
       "'Device Name: Ellie’s Room, Device Type: wifi-switch-1.3,            SubDevice No.: None Status: off'"
      ]
     },
     "execution_count": 33,
     "metadata": {},
     "output_type": "execute_result"
    }
   ],
   "source": [
    "str(manager.outlets[0])"
   ]
  },
  {
   "cell_type": "code",
   "execution_count": 37,
   "metadata": {},
   "outputs": [],
   "source": [
    "for out in range(len(manager.outlets)):\n",
    "    if 'ellie' in str.lower(str(manager.outlets[out])):\n",
    "        ellie = out\n",
    "    elif 'luke' in str.lower(str(manager.outlets[out])):\n",
    "        luke = out"
   ]
  },
  {
   "cell_type": "code",
   "execution_count": 38,
   "metadata": {},
   "outputs": [
    {
     "data": {
      "text/plain": [
       "0"
      ]
     },
     "execution_count": 38,
     "metadata": {},
     "output_type": "execute_result"
    }
   ],
   "source": [
    "ellie"
   ]
  },
  {
   "cell_type": "code",
   "execution_count": 39,
   "metadata": {},
   "outputs": [
    {
     "ename": "NameError",
     "evalue": "name 'luke' is not defined",
     "output_type": "error",
     "traceback": [
      "\u001b[0;31m---------------------------------------------------------------------------\u001b[0m",
      "\u001b[0;31mNameError\u001b[0m                                 Traceback (most recent call last)",
      "\u001b[0;32m<ipython-input-39-1ec99ab1eb69>\u001b[0m in \u001b[0;36m<module>\u001b[0;34m\u001b[0m\n\u001b[0;32m----> 1\u001b[0;31m \u001b[0mluke\u001b[0m\u001b[0;34m\u001b[0m\u001b[0m\n\u001b[0m",
      "\u001b[0;31mNameError\u001b[0m: name 'luke' is not defined"
     ]
    }
   ],
   "source": [
    "luke"
   ]
  },
  {
   "cell_type": "code",
   "execution_count": null,
   "metadata": {},
   "outputs": [],
   "source": []
  }
 ],
 "metadata": {
  "kernelspec": {
   "display_name": "Python 3",
   "language": "python",
   "name": "python3"
  },
  "language_info": {
   "codemirror_mode": {
    "name": "ipython",
    "version": 3
   },
   "file_extension": ".py",
   "mimetype": "text/x-python",
   "name": "python",
   "nbconvert_exporter": "python",
   "pygments_lexer": "ipython3",
   "version": "3.7.0"
  }
 },
 "nbformat": 4,
 "nbformat_minor": 2
}
